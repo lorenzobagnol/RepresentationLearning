{
 "cells": [
  {
   "cell_type": "code",
   "execution_count": 1,
   "metadata": {},
   "outputs": [],
   "source": [
    "from importlib import reload\n",
    "import som\n",
    "reload(som)\n",
    "from som import SOM\n",
    "import torchvision\n",
    "import numpy as np\n",
    "import torch\n",
    "import matplotlib.pyplot as plt\n",
    "from inputdata import InputData\n",
    "import importlib\n",
    "import PIL\n",
    "from PIL import Image"
   ]
  },
  {
   "cell_type": "code",
   "execution_count": 8,
   "metadata": {},
   "outputs": [],
   "source": [
    "input_data=InputData((28,28))\n",
    "# data in .data and labels in .targets\n",
    "train_MNIST_dataset = torchvision.datasets.MNIST(\n",
    "    root=\"C:\\\\Users\\\\loren\\\\Documenti\\\\Lorenzo\\\\CNR\\\\RepresentationLearning\",\n",
    "    train=True,\n",
    "    download=True,\n",
    "    transform=torchvision.transforms.Compose([torchvision.transforms.ToTensor(), input_data.transform_data]),\n",
    ")\n",
    "\n",
    "MNIST_dataset = torchvision.datasets.MNIST(\n",
    "    root=\"C:\\\\Users\\\\loren\\\\Documenti\\\\Lorenzo\\\\CNR\\\\RepresentationLearning\",\n",
    "    train=False,\n",
    "    download=True,\n",
    "    transform=torchvision.transforms.Compose([torchvision.transforms.ToTensor(), input_data.transform_data]),\n",
    ")"
   ]
  },
  {
   "cell_type": "code",
   "execution_count": 2,
   "metadata": {},
   "outputs": [],
   "source": [
    "decay=100\n",
    "m = 20\n",
    "n = 30\n",
    "input_data=InputData(3)\n",
    "som = SOM(m, n, input_data, decay_rate=decay)"
   ]
  },
  {
   "cell_type": "code",
   "execution_count": 27,
   "metadata": {},
   "outputs": [],
   "source": [
    "import torch.utils\n",
    "import torch.utils.data\n",
    "\n",
    "\n",
    "colors = np.array([\n",
    "        [0., 0., 0.],\n",
    "        [0., 0., 1.],\n",
    "        [0., 0., 0.5],\n",
    "        [0.125, 0.529, 1.0],\n",
    "        [0.33, 0.4, 0.67],\n",
    "        [0.6, 0.5, 1.0],\n",
    "        [0., 1., 0.],\n",
    "        [1., 0., 0.],\n",
    "        [0., 1., 1.],\n",
    "        [1., 0., 1.],\n",
    "        [1., 1., 0.],\n",
    "        [1., 1., 1.],\n",
    "        [.33, .33, .33],\n",
    "        [.5, .5, .5],\n",
    "        [.66, .66, .66]\n",
    "    ])\n",
    "color_names = [\n",
    "\t'black', 'blue', 'darkblue', 'skyblue',\n",
    "\t'greyblue', 'lilac', 'green', 'red',\n",
    "\t'cyan', 'violet', 'yellow', 'white',\n",
    "\t'darkgrey', 'mediumgrey', 'lightgrey'\n",
    "]\n",
    "dataset = torch.utils.data.TensorDataset(torch.Tensor(colors), torch.Tensor([i for i in range(15)]))"
   ]
  },
  {
   "cell_type": "code",
   "execution_count": 28,
   "metadata": {},
   "outputs": [
    {
     "data": {
      "text/plain": [
       "tensor(0.)"
      ]
     },
     "execution_count": 28,
     "metadata": {},
     "output_type": "execute_result"
    }
   ],
   "source": [
    "dataset[0][1]"
   ]
  }
 ],
 "metadata": {
  "kernelspec": {
   "display_name": "rep_env",
   "language": "python",
   "name": "python3"
  },
  "language_info": {
   "codemirror_mode": {
    "name": "ipython",
    "version": 3
   },
   "file_extension": ".py",
   "mimetype": "text/x-python",
   "name": "python",
   "nbconvert_exporter": "python",
   "pygments_lexer": "ipython3",
   "version": "3.11.3"
  }
 },
 "nbformat": 4,
 "nbformat_minor": 2
}
