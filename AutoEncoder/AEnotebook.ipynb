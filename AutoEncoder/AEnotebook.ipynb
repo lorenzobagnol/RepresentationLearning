{
 "cells": [
  {
   "cell_type": "code",
   "execution_count": 3,
   "metadata": {},
   "outputs": [],
   "source": [
    "from typing import Sequence, Union, Tuple\n",
    "import torch\n",
    "import torch.nn as nn\n",
    "import numpy as np\n",
    "from torch.autograd import Variable\n",
    "import types\n",
    "import torchvision\n",
    "\n",
    "# data in .data and labels in .targets\n",
    "train_MNIST_dataset = torchvision.datasets.MNIST(\n",
    "    root=\"C:\\\\Users\\\\loren\\\\Documenti\\\\Lorenzo\\\\CNR\\\\RepresentationLearning\",\n",
    "    train=True,\n",
    "    download=True,\n",
    "    transform=torchvision.transforms.Compose([torchvision.transforms.ToTensor()]),\n",
    ")\n",
    "\n",
    "MNIST_dataset = torchvision.datasets.MNIST(\n",
    "    root=\"C:\\\\Users\\\\loren\\\\Documenti\\\\Lorenzo\\\\CNR\\\\RepresentationLearning\",\n",
    "    train=False,\n",
    "    download=True,\n",
    "    transform=torchvision.transforms.Compose([torchvision.transforms.ToTensor()]),\n",
    ")"
   ]
  },
  {
   "cell_type": "code",
   "execution_count": 64,
   "metadata": {},
   "outputs": [],
   "source": [
    "conv1=torch.nn.Conv2d(in_channels=1, out_channels=3, kernel_size=4, stride=2)\n",
    "conv2=torch.nn.Conv2d(in_channels=3, out_channels=6, kernel_size=4, stride=2)\n",
    "fully_connected = torch.nn.Linear(in_features=25*6, out_features=10)\n",
    "decoder = torch.nn.Sequential(\n",
    "\t\t\ttorch.nn.ConvTranspose2d(in_channels=6, out_channels=3, kernel_size=4, stride=2, output_padding=1),\n",
    "\t\t\ttorch.nn.ConvTranspose2d(in_channels=3, out_channels=1, kernel_size=4, stride=2)\n",
    "\t\t\t)"
   ]
  },
  {
   "cell_type": "code",
   "execution_count": 65,
   "metadata": {},
   "outputs": [
    {
     "name": "stdout",
     "output_type": "stream",
     "text": [
      "torch.Size([1, 28, 28])\n"
     ]
    },
    {
     "data": {
      "text/plain": [
       "torch.Size([3, 13, 13])"
      ]
     },
     "execution_count": 65,
     "metadata": {},
     "output_type": "execute_result"
    }
   ],
   "source": [
    "x=torch.stack([MNIST_dataset.data[0]]).to(torch.float)\n",
    "print(x.shape)\n",
    "lat=conv1(x)\n",
    "lat.shape"
   ]
  },
  {
   "cell_type": "code",
   "execution_count": 66,
   "metadata": {},
   "outputs": [
    {
     "data": {
      "text/plain": [
       "torch.Size([6, 5, 5])"
      ]
     },
     "execution_count": 66,
     "metadata": {},
     "output_type": "execute_result"
    }
   ],
   "source": [
    "lat=conv2(lat)\n",
    "lat.shape"
   ]
  },
  {
   "cell_type": "code",
   "execution_count": 51,
   "metadata": {},
   "outputs": [],
   "source": [
    "lat=lat.reshape(25*6)\n",
    "lat=fully_connected(lat)"
   ]
  },
  {
   "cell_type": "code",
   "execution_count": 67,
   "metadata": {},
   "outputs": [
    {
     "data": {
      "text/plain": [
       "torch.Size([1, 28, 28])"
      ]
     },
     "execution_count": 67,
     "metadata": {},
     "output_type": "execute_result"
    }
   ],
   "source": [
    "lat=decoder(lat)\n",
    "lat.shape"
   ]
  },
  {
   "cell_type": "code",
   "execution_count": null,
   "metadata": {},
   "outputs": [],
   "source": []
  }
 ],
 "metadata": {
  "kernelspec": {
   "display_name": "rep_env",
   "language": "python",
   "name": "python3"
  },
  "language_info": {
   "codemirror_mode": {
    "name": "ipython",
    "version": 3
   },
   "file_extension": ".py",
   "mimetype": "text/x-python",
   "name": "python",
   "nbconvert_exporter": "python",
   "pygments_lexer": "ipython3",
   "version": "3.11.3"
  }
 },
 "nbformat": 4,
 "nbformat_minor": 2
}
