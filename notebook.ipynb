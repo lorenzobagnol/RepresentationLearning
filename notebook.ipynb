{
 "cells": [
  {
   "cell_type": "code",
   "execution_count": 1,
   "metadata": {},
   "outputs": [],
   "source": [
    "import torch.utils\n",
    "import torch.utils.data\n",
    "import torch.utils.data.dataset\n",
    "import torchvision\n",
    "import numpy as np\n",
    "from torch.utils.data import TensorDataset\n",
    "import torch\n",
    "from utils.inputdata import InputData\n",
    "import random\n",
    "from utils.runner import BaseRunner\n",
    "import torch.utils\n",
    "import torch.utils.data\n",
    "from models.som import SOM\n",
    "import models.som\n",
    "from torch.utils.data import TensorDataset\n",
    "import torch\n",
    "import matplotlib.pyplot as plt\n",
    "from utils.inputdata import InputData\n",
    "import argparse\n",
    "import wandb\n",
    "import random\n",
    "from abc import ABC, abstractmethod\n",
    "from typing import Any\n",
    "import importlib\n",
    "importlib.reload(models.som)\n",
    "from models.som import SOM\n",
    "from models.stm import STM\n",
    "import math\n",
    "import os"
   ]
  }
 ],
 "metadata": {
  "kernelspec": {
   "display_name": "rep_env",
   "language": "python",
   "name": "python3"
  },
  "language_info": {
   "codemirror_mode": {
    "name": "ipython",
    "version": 3
   },
   "file_extension": ".py",
   "mimetype": "text/x-python",
   "name": "python",
   "nbconvert_exporter": "python",
   "pygments_lexer": "ipython3",
   "version": "3.11.3"
  }
 },
 "nbformat": 4,
 "nbformat_minor": 2
}
