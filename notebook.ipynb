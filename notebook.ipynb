{
 "cells": [
  {
   "cell_type": "code",
   "execution_count": 2,
   "metadata": {},
   "outputs": [],
   "source": [
    "import torch.utils\n",
    "import torch.utils.data\n",
    "import torch.utils.data.dataset\n",
    "import torchvision\n",
    "import numpy as np\n",
    "from torch.utils.data import TensorDataset\n",
    "import torch\n",
    "from utils.inputdata import InputData\n",
    "import random\n",
    "from utils.runner import Runner\n",
    "import torch.utils\n",
    "import torch.utils.data\n",
    "from models.som import SOM\n",
    "import models.som\n",
    "import torch\n",
    "import matplotlib.pyplot as plt\n",
    "from utils.inputdata import InputData\n",
    "import argparse\n",
    "import wandb\n",
    "import random\n",
    "from abc import ABC, abstractmethod\n",
    "from typing import Any\n",
    "import importlib\n",
    "importlib.reload(models.som)\n",
    "from models.som import SOM\n",
    "from models.stm import STM\n",
    "import math\n",
    "import os"
   ]
  },
  {
   "cell_type": "code",
   "execution_count": 7,
   "metadata": {},
   "outputs": [
    {
     "name": "stdout",
     "output_type": "stream",
     "text": [
      "<Run replearn/STM-target-radius-experiment-MNIST/uvdno50l (running)>\n",
      "<Run replearn/STM-target-radius-experiment-MNIST/kny9vp3l (running)>\n",
      "<Run replearn/STM-target-radius-experiment-MNIST/7bap89sq (running)>\n",
      "<Run replearn/STM-target-radius-experiment-MNIST/c62q40do (running)>\n",
      "<Run replearn/STM-target-radius-experiment-MNIST/gijrkjrf (finished)>\n",
      "<Run replearn/STM-target-radius-experiment-MNIST/l15ebc8k (finished)>\n",
      "<Run replearn/STM-target-radius-experiment-MNIST/eznvyfhu (finished)>\n",
      "<Run replearn/STM-target-radius-experiment-MNIST/bhoi5mx0 (finished)>\n",
      "<Run replearn/STM-target-radius-experiment-MNIST/0ws2gdep (finished)>\n",
      "<Run replearn/STM-target-radius-experiment-MNIST/6nr91s9r (finished)>\n",
      "<Run replearn/STM-target-radius-experiment-MNIST/pyqo6ama (finished)>\n",
      "<Run replearn/STM-target-radius-experiment-MNIST/zhw02hko (finished)>\n",
      "<Run replearn/STM-target-radius-experiment-MNIST/ddi7i1hh (finished)>\n",
      "<Run replearn/STM-target-radius-experiment-MNIST/cbblum6u (finished)>\n",
      "<Run replearn/STM-target-radius-experiment-MNIST/73w25l1v (finished)>\n",
      "<Run replearn/STM-target-radius-experiment-MNIST/zp0hnw4u (finished)>\n",
      "<Run replearn/STM-target-radius-experiment-MNIST/b0us3cmc (finished)>\n",
      "<Run replearn/STM-target-radius-experiment-MNIST/s3qxieid (finished)>\n",
      "<Run replearn/STM-target-radius-experiment-MNIST/sce1nn4t (finished)>\n",
      "<Run replearn/STM-target-radius-experiment-MNIST/izo42yaq (finished)>\n",
      "<Run replearn/STM-target-radius-experiment-MNIST/e431knyx (finished)>\n",
      "<Run replearn/STM-target-radius-experiment-MNIST/v2ru9agj (finished)>\n",
      "<Run replearn/STM-target-radius-experiment-MNIST/xqq644g3 (finished)>\n",
      "<Run replearn/STM-target-radius-experiment-MNIST/zru2wwk7 (finished)>\n"
     ]
    }
   ],
   "source": [
    "\n",
    "alphas = [5, 2, 1]\n",
    "betas = [0.005, 0.01, 0.02]\n",
    "api = wandb.Api()\n",
    "entity = \"replearn\"\n",
    "project = \"STM-target-radius-experiment-MNIST\"\n",
    "runs = api.runs(\n",
    "\tpath=f\"{entity}/{project}\",\n",
    "\tfilters=None,\n",
    "\torder=\"-created_at\"\n",
    ")\n",
    "for run in runs:\n",
    "# \trun.delete()\n",
    "\tprint(run)\n",
    "\n",
    "\t\n"
   ]
  },
  {
   "cell_type": "code",
   "execution_count": null,
   "metadata": {},
   "outputs": [],
   "source": [
    "for i, alpha in enumerate(alphas):\n",
    "\tfor j, beta in enumerate(betas):\n",
    "\t\tfilters = {\n",
    "\n",
    "\t\t\t\"state\": \"finished\"\n",
    "\t\t}\n",
    "\t\truns = api.runs(\n",
    "\t\t\tpath=f\"{entity}/{project}\",\n",
    "\t\t\tfilters=None,\n",
    "\t\t\torder=\"-created_at\"\n",
    "\t\t)\n",
    "\t\tfor run in runs:\n",
    "\t\t \trun.delete()\n",
    "\t\t"
   ]
  },
  {
   "cell_type": "code",
   "execution_count": null,
   "metadata": {},
   "outputs": [],
   "source": []
  }
 ],
 "metadata": {
  "kernelspec": {
   "display_name": "rep_env",
   "language": "python",
   "name": "python3"
  },
  "language_info": {
   "codemirror_mode": {
    "name": "ipython",
    "version": 3
   },
   "file_extension": ".py",
   "mimetype": "text/x-python",
   "name": "python",
   "nbconvert_exporter": "python",
   "pygments_lexer": "ipython3",
   "version": "3.11.3"
  }
 },
 "nbformat": 4,
 "nbformat_minor": 2
}
