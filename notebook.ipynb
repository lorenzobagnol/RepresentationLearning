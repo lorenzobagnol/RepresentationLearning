{
 "cells": [
  {
   "cell_type": "code",
   "execution_count": 1,
   "metadata": {},
   "outputs": [],
   "source": [
    "import torch.utils\n",
    "import torch.utils.data\n",
    "import torch.utils.data.dataset\n",
    "import torchvision\n",
    "import numpy as np\n",
    "from torch.utils.data import TensorDataset\n",
    "import torch\n",
    "from utils.inputdata import InputData\n",
    "import random\n",
    "from utils.runner import BaseRunner\n",
    "import torch.utils\n",
    "import torch.utils.data\n",
    "from models.som import SOM\n",
    "import models.som\n",
    "from torch.utils.data import TensorDataset\n",
    "import torch\n",
    "import matplotlib.pyplot as plt\n",
    "from utils.inputdata import InputData\n",
    "import argparse\n",
    "import wandb\n",
    "import random\n",
    "from abc import ABC, abstractmethod\n",
    "from typing import Any\n",
    "import importlib\n",
    "importlib.reload(models.som)\n",
    "from models.som import SOM\n",
    "from models.stm import STM\n",
    "import math"
   ]
  },
  {
   "cell_type": "code",
   "execution_count": 14,
   "metadata": {},
   "outputs": [
    {
     "name": "stdout",
     "output_type": "stream",
     "text": [
      "1.0\n",
      "0.9950124791926823\n",
      "0.9900498337491681\n",
      "0.9851119396030626\n",
      "0.9801986733067553\n",
      "0.9753099120283326\n",
      "0.9704455335485082\n",
      "0.9656054162575665\n",
      "0.9607894391523232\n",
      "0.9559974818331\n",
      "0.951229424500714\n",
      "0.9464851479534838\n",
      "0.9417645335842487\n",
      "0.9370674633774034\n",
      "0.9323938199059483\n",
      "0.9277434863285529\n",
      "0.9231163463866358\n",
      "0.9185122844014574\n",
      "0.9139311852712282\n",
      "0.9093729344682314\n",
      "0.9048374180359595\n",
      "0.9003245225862656\n",
      "0.8958341352965282\n",
      "0.8913661439068313\n",
      "0.8869204367171575\n",
      "0.8824969025845955\n",
      "0.8780954309205613\n",
      "0.8737159116880344\n",
      "0.8693582353988059\n",
      "0.8650222931107413\n",
      "0.8607079764250578\n",
      "0.8564151774836135\n",
      "0.8521437889662113\n",
      "0.8478937040879159\n",
      "0.8436648165963837\n",
      "0.8394570207692074\n",
      "0.835270211411272\n",
      "0.8311042838521256\n",
      "0.8269591339433623\n",
      "0.8228346580560184\n"
     ]
    }
   ],
   "source": [
    "for i in range(40):\n",
    "\tprint(math.exp(-i*0.005))"
   ]
  },
  {
   "cell_type": "code",
   "execution_count": null,
   "metadata": {},
   "outputs": [],
   "source": []
  }
 ],
 "metadata": {
  "kernelspec": {
   "display_name": "rep_env",
   "language": "python",
   "name": "python3"
  },
  "language_info": {
   "codemirror_mode": {
    "name": "ipython",
    "version": 3
   },
   "file_extension": ".py",
   "mimetype": "text/x-python",
   "name": "python",
   "nbconvert_exporter": "python",
   "pygments_lexer": "ipython3",
   "version": "3.11.3"
  }
 },
 "nbformat": 4,
 "nbformat_minor": 2
}
