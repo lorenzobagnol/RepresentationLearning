{
 "cells": [
  {
   "cell_type": "code",
   "execution_count": 20,
   "metadata": {},
   "outputs": [],
   "source": [
    "import torch.utils\n",
    "import torch.utils.data\n",
    "import torch.utils.data.dataset\n",
    "import torchvision\n",
    "import numpy as np\n",
    "from torch.utils.data import TensorDataset\n",
    "import torch\n",
    "from utils.inputdata import InputData\n",
    "import random\n",
    "from utils.runner import Runner\n",
    "import torch.utils\n",
    "import torch.utils.data\n",
    "from models.som import SOM\n",
    "import models.som\n",
    "import torch\n",
    "import matplotlib.pyplot as plt\n",
    "from utils.inputdata import InputData\n",
    "import argparse\n",
    "import wandb\n",
    "import random\n",
    "from abc import ABC, abstractmethod\n",
    "from typing import Any\n",
    "import importlib\n",
    "importlib.reload(models.som)\n",
    "from models.som import SOM\n",
    "from models.stm import STM\n",
    "import math\n",
    "import os"
   ]
  },
  {
   "cell_type": "code",
   "execution_count": 28,
   "metadata": {},
   "outputs": [
    {
     "name": "stdout",
     "output_type": "stream",
     "text": [
      "killed\n"
     ]
    }
   ],
   "source": [
    "\n",
    "alphas = [5, 2, 1]\n",
    "betas = [0.005, 0.01, 0.02]\n",
    "api = wandb.Api()\n",
    "entity = \"replearn\"\n",
    "project = \"STM-target-radius-experiment-MNIST\"\n",
    "runs = api.runs(\n",
    "\tpath=f\"{entity}/{project}\",\n",
    "\tfilters=None,\n",
    "\torder=\"-created_at\"\n",
    ")\n",
    "for run in runs:\n",
    "\t#run.delete()\n",
    "\t#print(run.state)\n",
    "\tif run.state!=\"finished\":\n",
    "\t\tprint(run.state)\n",
    "\t\t#run.delete()\n",
    "\n"
   ]
  },
  {
   "cell_type": "code",
   "execution_count": 47,
   "metadata": {},
   "outputs": [
    {
     "name": "stdout",
     "output_type": "stream",
     "text": [
      "20\n",
      "finished\n",
      "finished\n",
      "finished\n",
      "finished\n",
      "finished\n",
      "finished\n",
      "finished\n",
      "finished\n",
      "finished\n",
      "finished\n",
      "finished\n",
      "finished\n",
      "finished\n",
      "finished\n",
      "finished\n",
      "finished\n",
      "finished\n",
      "finished\n",
      "finished\n",
      "finished\n"
     ]
    }
   ],
   "source": [
    "# for i, alpha in enumerate(alphas):\n",
    "# \tfor j, beta in enumerate(betas):\n",
    "filters = {\n",
    "\n",
    "\t#\"state\": \"finished\",\n",
    "\t#\"config.MODE\": \"a\",\n",
    "}\n",
    "runs = api.runs(\n",
    "\tpath=f\"{entity}/{project}\",\n",
    "\tfilters=filters,\n",
    "\torder=\"-created_at\"\n",
    ")\n",
    "print(len(runs))\n",
    "for run in runs:\n",
    "\tprint(run.state)\n",
    "\t#if run.state!=\"finished\":\n",
    "\t\t#run.delete()\n",
    "\t\t"
   ]
  }
 ],
 "metadata": {
  "kernelspec": {
   "display_name": "rep_env",
   "language": "python",
   "name": "python3"
  },
  "language_info": {
   "codemirror_mode": {
    "name": "ipython",
    "version": 3
   },
   "file_extension": ".py",
   "mimetype": "text/x-python",
   "name": "python",
   "nbconvert_exporter": "python",
   "pygments_lexer": "ipython3",
   "version": "3.11.3"
  }
 },
 "nbformat": 4,
 "nbformat_minor": 2
}
