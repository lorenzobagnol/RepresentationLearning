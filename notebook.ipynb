{
 "cells": [
  {
   "cell_type": "code",
   "execution_count": 4,
   "metadata": {},
   "outputs": [],
   "source": [
    "import torchvision\n",
    "\n",
    "MNIST_train = torchvision.datasets.MNIST(\n",
    "\t\troot=\"C:\\\\Users\\\\loren\\\\Documenti\\\\Lorenzo\\\\CNR\\\\RepresentationLearning\",\n",
    "\t\ttrain=True,\n",
    "\t\tdownload=True,\n",
    "\t\ttransform=torchvision.transforms.Compose([torchvision.transforms.ToTensor()]),\n",
    "\t)"
   ]
  }
 ],
 "metadata": {
  "kernelspec": {
   "display_name": "rep_env",
   "language": "python",
   "name": "python3"
  },
  "language_info": {
   "codemirror_mode": {
    "name": "ipython",
    "version": 3
   },
   "file_extension": ".py",
   "mimetype": "text/x-python",
   "name": "python",
   "nbconvert_exporter": "python",
   "pygments_lexer": "ipython3",
   "version": "3.11.3"
  }
 },
 "nbformat": 4,
 "nbformat_minor": 2
}
