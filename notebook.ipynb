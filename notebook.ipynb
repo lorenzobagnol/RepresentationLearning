{
 "cells": [
  {
   "cell_type": "code",
   "execution_count": 8,
   "metadata": {},
   "outputs": [],
   "source": [
    "import torch.utils\n",
    "import torch.utils.data\n",
    "import torch.utils.data.dataset\n",
    "import torchvision\n",
    "import numpy as np\n",
    "from torch.utils.data import TensorDataset\n",
    "import torch\n",
    "from utils.inputdata import InputData\n",
    "import random\n",
    "from utils.runner import Runner\n",
    "import torch.utils\n",
    "import torch.utils.data\n",
    "from models.som import SOM\n",
    "import models.som\n",
    "import torch\n",
    "import matplotlib.pyplot as plt\n",
    "from utils.inputdata import InputData\n",
    "import argparse\n",
    "import wandb\n",
    "import random\n",
    "from abc import ABC, abstractmethod\n",
    "from typing import Any\n",
    "import importlib\n",
    "importlib.reload(models.som)\n",
    "from models.som import SOM\n",
    "from models.stm import STM\n",
    "import math\n",
    "import os"
   ]
  },
  {
   "cell_type": "code",
   "execution_count": 18,
   "metadata": {},
   "outputs": [],
   "source": [
    "\n",
    "alphas = [5, 2, 1]\n",
    "betas = [0.005, 0.01, 0.02]\n",
    "api = wandb.Api()\n",
    "entity = \"replearn\"\n",
    "project = \"STM-target-radius-experiment-MNIST\"\n",
    "runs = api.runs(\n",
    "\tpath=f\"{entity}/{project}\",\n",
    "\tfilters=None,\n",
    "\torder=\"-created_at\"\n",
    ")\n",
    "for run in runs:\n",
    "# \trun.delete()\n",
    "#\tprint(run)\n",
    "\tif run.state==\"crashed\":\n",
    "\t\tprint(run)\n",
    "\t\n"
   ]
  },
  {
   "cell_type": "code",
   "execution_count": 47,
   "metadata": {},
   "outputs": [
    {
     "name": "stdout",
     "output_type": "stream",
     "text": [
      "20\n",
      "finished\n",
      "finished\n",
      "finished\n",
      "finished\n",
      "finished\n",
      "finished\n",
      "finished\n",
      "finished\n",
      "finished\n",
      "finished\n",
      "finished\n",
      "finished\n",
      "finished\n",
      "finished\n",
      "finished\n",
      "finished\n",
      "finished\n",
      "finished\n",
      "finished\n",
      "finished\n"
     ]
    }
   ],
   "source": [
    "# for i, alpha in enumerate(alphas):\n",
    "# \tfor j, beta in enumerate(betas):\n",
    "filters = {\n",
    "\n",
    "\t#\"state\": \"finished\",\n",
    "\t#\"config.MODE\": \"a\",\n",
    "}\n",
    "runs = api.runs(\n",
    "\tpath=f\"{entity}/{project}\",\n",
    "\tfilters=filters,\n",
    "\torder=\"-created_at\"\n",
    ")\n",
    "print(len(runs))\n",
    "for run in runs:\n",
    "\tprint(run.state)\n",
    "\t#if run.state!=\"finished\":\n",
    "\t\t#run.delete()\n",
    "\t\t"
   ]
  },
  {
   "cell_type": "code",
   "execution_count": null,
   "metadata": {},
   "outputs": [
    {
     "ename": "KeyError",
     "evalue": "0",
     "output_type": "error",
     "traceback": [
      "\u001b[1;31m---------------------------------------------------------------------------\u001b[0m",
      "\u001b[1;31mKeyError\u001b[0m                                  Traceback (most recent call last)",
      "Cell \u001b[1;32mIn[44], line 6\u001b[0m\n\u001b[0;32m      4\u001b[0m vars1 \u001b[38;5;241m=\u001b[39m [\u001b[38;5;241m10\u001b[39m, \u001b[38;5;241m5\u001b[39m, \u001b[38;5;241m2\u001b[39m]  \u001b[38;5;66;03m# 3 different targed radius values\u001b[39;00m\n\u001b[0;32m      5\u001b[0m vars2 \u001b[38;5;241m=\u001b[39m [\u001b[38;5;124m\"\u001b[39m\u001b[38;5;124mBase\u001b[39m\u001b[38;5;124m\"\u001b[39m, \u001b[38;5;124m\"\u001b[39m\u001b[38;5;124mSTC-modified\u001b[39m\u001b[38;5;124m\"\u001b[39m, \u001b[38;5;124m\"\u001b[39m\u001b[38;5;124mBase_Norm\u001b[39m\u001b[38;5;124m\"\u001b[39m]  \u001b[38;5;66;03m# different mode values\u001b[39;00m\n\u001b[1;32m----> 6\u001b[0m \u001b[43mcreate_image_grid\u001b[49m\u001b[43m(\u001b[49m\u001b[43malphas\u001b[49m\u001b[38;5;241;43m=\u001b[39;49m\u001b[43mvars0\u001b[49m\u001b[43m,\u001b[49m\u001b[43m \u001b[49m\u001b[43mtarget_radius\u001b[49m\u001b[38;5;241;43m=\u001b[39;49m\u001b[43mvars1\u001b[49m\u001b[43m)\u001b[49m\n",
      "Cell \u001b[1;32mIn[44], line 2\u001b[0m, in \u001b[0;36mcreate_image_grid\u001b[1;34m(**kwargs)\u001b[0m\n\u001b[0;32m      1\u001b[0m \u001b[38;5;28;01mdef\u001b[39;00m \u001b[38;5;21mcreate_image_grid\u001b[39m(\u001b[38;5;241m*\u001b[39m\u001b[38;5;241m*\u001b[39mkwargs):\n\u001b[1;32m----> 2\u001b[0m \t\u001b[38;5;28mprint\u001b[39m(\u001b[43mkwargs\u001b[49m\u001b[43m[\u001b[49m\u001b[38;5;241;43m0\u001b[39;49m\u001b[43m]\u001b[49m)\n",
      "\u001b[1;31mKeyError\u001b[0m: 0"
     ]
    }
   ],
   "source": [
    "vars0 = {\"values\": [5, 4, 3],  # 3 different alpha values\n",
    "\t\t\t \"name\": \"ALPHA\"}\n",
    "vars.values\n"
   ]
  }
 ],
 "metadata": {
  "kernelspec": {
   "display_name": "rep_env",
   "language": "python",
   "name": "python3"
  },
  "language_info": {
   "codemirror_mode": {
    "name": "ipython",
    "version": 3
   },
   "file_extension": ".py",
   "mimetype": "text/x-python",
   "name": "python",
   "nbconvert_exporter": "python",
   "pygments_lexer": "ipython3",
   "version": "3.11.3"
  }
 },
 "nbformat": 4,
 "nbformat_minor": 2
}
