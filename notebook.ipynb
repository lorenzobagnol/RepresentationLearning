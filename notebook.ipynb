{
 "cells": [
  {
   "cell_type": "code",
   "execution_count": 2,
   "metadata": {},
   "outputs": [],
   "source": [
    "import torch.utils\n",
    "import torch.utils.data\n",
    "import torch.utils.data.dataset\n",
    "import torchvision\n",
    "import numpy as np\n",
    "from torch.utils.data import TensorDataset\n",
    "import torch\n",
    "from utils.inputdata import InputData\n",
    "import random\n",
    "from utils.runner import Runner\n",
    "import torch.utils\n",
    "import torch.utils.data\n",
    "from models.som import SOM\n",
    "import models.som\n",
    "import torch\n",
    "import matplotlib.pyplot as plt\n",
    "from utils.inputdata import InputData\n",
    "import argparse\n",
    "import wandb\n",
    "import random\n",
    "from abc import ABC, abstractmethod\n",
    "from typing import Any\n",
    "import importlib\n",
    "importlib.reload(models.som)\n",
    "from models.som import SOM\n",
    "from models.stm import STM\n",
    "import math\n",
    "import os"
   ]
  },
  {
   "cell_type": "code",
   "execution_count": 26,
   "metadata": {},
   "outputs": [],
   "source": [
    "import wandb\n",
    "\n",
    "alphas = [5, 2, 1]  \n",
    "betas = [0.005, 0.01, 0.02] \n",
    "\n",
    "\n",
    "api = wandb.Api()\n",
    "\n",
    "entity = \"replearn\"  \n",
    "project = \"STM-MNIST\"  \n",
    "\n",
    "for alpha in alphas:\n",
    "    for beta in betas:\n",
    "        filters = {\n",
    "            \"config.BETA\": beta,\n",
    "            \"config.ALPHA\": alpha,  \n",
    "            \"state\": \"finished\"  \n",
    "        }\n",
    "\n",
    "        runs = api.runs(\n",
    "            path=f\"{entity}/{project}\",  \n",
    "            filters=filters,\n",
    "            order=\"-created_at\"  \n",
    "        )\n",
    "\n",
    "        for run in runs:\n",
    "            run.delete()"
   ]
  },
  {
   "cell_type": "code",
   "execution_count": null,
   "metadata": {},
   "outputs": [
    {
     "name": "stderr",
     "output_type": "stream",
     "text": [
      "\u001b[34m\u001b[1mwandb\u001b[0m: \u001b[33mWARNING\u001b[0m A graphql request initiated by the public wandb API timed out (timeout=19 sec). Create a new API with an integer timeout larger than 19, e.g., `api = wandb.Api(timeout=29)` to increase the graphql timeout.\n"
     ]
    }
   ],
   "source": [
    "\n",
    "\n",
    "history = run.scan_history(keys=[\"loss\"], page_size=1000, min_step=0, max_step=9)\n",
    "losses = [row[\"loss\"] for row in history]\n",
    "losses"
   ]
  },
  {
   "cell_type": "code",
   "execution_count": null,
   "metadata": {},
   "outputs": [
    {
     "data": {
      "text/plain": [
       "[{'format': 'png',\n",
       "  'path': 'media/images/weights_0_23dd17729e7a8be0af92.png',\n",
       "  'sha256': '23dd17729e7a8be0af92df7b47e5e278f388eabb181b194058da60be7c7bc838',\n",
       "  'size': 276515,\n",
       "  'height': 800,\n",
       "  'width': 800,\n",
       "  '_type': 'image-file'},\n",
       " {'height': 800,\n",
       "  'width': 800,\n",
       "  '_type': 'image-file',\n",
       "  'format': 'png',\n",
       "  'path': 'media/images/weights_1_9b25b28582899a458113.png',\n",
       "  'sha256': '9b25b28582899a45811361808728cbc1cc9d8d7e2a27b7ea17c166f068768568',\n",
       "  'size': 252861},\n",
       " {'height': 800,\n",
       "  'width': 800,\n",
       "  '_type': 'image-file',\n",
       "  'format': 'png',\n",
       "  'path': 'media/images/weights_2_5d83e36a0282ad841cd6.png',\n",
       "  'sha256': '5d83e36a0282ad841cd681b09cb25f2678ea6eeb32ee07496c3c861745194763',\n",
       "  'size': 409362},\n",
       " {'path': 'media/images/weights_3_39d9944d837e9c711aeb.png',\n",
       "  'sha256': '39d9944d837e9c711aeba98a29c22453e0b4e9e573d7c440349b7ad5f6e63966',\n",
       "  'size': 406150,\n",
       "  'height': 800,\n",
       "  'width': 800,\n",
       "  '_type': 'image-file',\n",
       "  'format': 'png'},\n",
       " {'format': 'png',\n",
       "  'path': 'media/images/weights_4_858ceb3b37c44a76fcee.png',\n",
       "  'sha256': '858ceb3b37c44a76fcee1beeeb0c34c5c3bc882daab23fa5da4a0216daa5d629',\n",
       "  'size': 382515,\n",
       "  'height': 800,\n",
       "  'width': 800,\n",
       "  '_type': 'image-file'},\n",
       " {'height': 800,\n",
       "  'width': 800,\n",
       "  '_type': 'image-file',\n",
       "  'format': 'png',\n",
       "  'path': 'media/images/weights_5_f24d4b69f09c66833137.png',\n",
       "  'sha256': 'f24d4b69f09c66833137d243fbbc6c257929cc1469032297f5f9dd1fa09c0584',\n",
       "  'size': 389598},\n",
       " {'_type': 'image-file',\n",
       "  'format': 'png',\n",
       "  'path': 'media/images/weights_6_a2f3ba62a9ec70ed4403.png',\n",
       "  'sha256': 'a2f3ba62a9ec70ed44033376b81beb82981c64a3506690a5cf0e57799a5ef24b',\n",
       "  'size': 383640,\n",
       "  'height': 800,\n",
       "  'width': 800},\n",
       " {'path': 'media/images/weights_7_6886f50bd30734159f6b.png',\n",
       "  'sha256': '6886f50bd30734159f6b48ee912ae2b79e745b86525290aa23d5a55978bbb340',\n",
       "  'size': 377312,\n",
       "  'height': 800,\n",
       "  'width': 800,\n",
       "  '_type': 'image-file',\n",
       "  'format': 'png'},\n",
       " {'height': 800,\n",
       "  'width': 800,\n",
       "  '_type': 'image-file',\n",
       "  'format': 'png',\n",
       "  'path': 'media/images/weights_8_c7298a8f0aea7cc92aa3.png',\n",
       "  'sha256': 'c7298a8f0aea7cc92aa3284e392acc4d0e2382bfced43285a166ff3fbbaee748',\n",
       "  'size': 388230}]"
      ]
     },
     "execution_count": 24,
     "metadata": {},
     "output_type": "execute_result"
    }
   ],
   "source": [
    "history = run.scan_history(keys=[\"weights\"], page_size=1000, min_step=0, max_step=9)\n",
    "weights = [row[\"weights\"] for row in history]"
   ]
  },
  {
   "cell_type": "code",
   "execution_count": null,
   "metadata": {},
   "outputs": [],
   "source": []
  }
 ],
 "metadata": {
  "kernelspec": {
   "display_name": "rep_env",
   "language": "python",
   "name": "python3"
  },
  "language_info": {
   "codemirror_mode": {
    "name": "ipython",
    "version": 3
   },
   "file_extension": ".py",
   "mimetype": "text/x-python",
   "name": "python",
   "nbconvert_exporter": "python",
   "pygments_lexer": "ipython3",
   "version": "3.11.3"
  }
 },
 "nbformat": 4,
 "nbformat_minor": 2
}
